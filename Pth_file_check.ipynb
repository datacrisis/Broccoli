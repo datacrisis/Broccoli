{
 "cells": [
  {
   "cell_type": "code",
   "execution_count": null,
   "metadata": {
    "colab": {
     "base_uri": "https://localhost:8080/"
    },
    "id": "5twGhT-vOOqV",
    "outputId": "39329d69-8be1-497f-b1c9-ce333f5438cb"
   },
   "outputs": [
    {
     "name": "stdout",
     "output_type": "stream",
     "text": [
      "Looking in indexes: https://pypi.org/simple, https://us-python.pkg.dev/colab-wheels/public/simple/\n",
      "Collecting brotli\n",
      "  Downloading Brotli-1.0.9-cp310-cp310-manylinux_2_5_x86_64.manylinux1_x86_64.manylinux_2_12_x86_64.manylinux2010_x86_64.whl (2.7 MB)\n",
      "\u001b[2K     \u001b[90m━━━━━━━━━━━━━━━━━━━━━━━━━━━━━━━━━━━━━━━━\u001b[0m \u001b[32m2.7/2.7 MB\u001b[0m \u001b[31m86.2 MB/s\u001b[0m eta \u001b[36m0:00:00\u001b[0m\n",
      "\u001b[?25hInstalling collected packages: brotli\n",
      "Successfully installed brotli-1.0.9\n"
     ]
    }
   ],
   "source": [
    "pip install brotli"
   ]
  },
  {
   "cell_type": "code",
   "execution_count": null,
   "metadata": {
    "id": "i71igs9KG4qH"
   },
   "outputs": [],
   "source": [
    "import torch\n",
    "import numpy as np\n",
    "import brotli\n",
    "import os"
   ]
  },
  {
   "cell_type": "code",
   "execution_count": null,
   "metadata": {
    "id": "VKcSURACG8JL"
   },
   "outputs": [],
   "source": [
    "q1 = torch.load('quant_vid.pth')\n",
    "q2 = torch.load('decomp_quant_vid.pth')\n"
   ]
  },
  {
   "cell_type": "code",
   "execution_count": null,
   "metadata": {
    "id": "ZTzMhvC3HJZ0"
   },
   "outputs": [],
   "source": [
    "q1.keys()\n",
    "q1_embed = q1['embed']\n",
    "q1_model = q1['model']"
   ]
  },
  {
   "cell_type": "code",
   "execution_count": null,
   "metadata": {
    "colab": {
     "base_uri": "https://localhost:8080/"
    },
    "id": "vLOmFW5ZHcHP",
    "outputId": "b56dc285-5664-4d8e-9d2c-4c657b3d11f7"
   },
   "outputs": [
    {
     "data": {
      "text/plain": [
       "dict_keys(['quant', 'min', 'scale'])"
      ]
     },
     "execution_count": 12,
     "metadata": {},
     "output_type": "execute_result"
    }
   ],
   "source": [
    "q1_embed.keys()\n",
    "#print(type(q1_embed['quant']))"
   ]
  },
  {
   "cell_type": "code",
   "execution_count": null,
   "metadata": {
    "id": "g7BLHGN_H7tU"
   },
   "outputs": [],
   "source": [
    "q2_embed = q2['embed']\n",
    "q2_model = q2['model']"
   ]
  },
  {
   "cell_type": "code",
   "execution_count": null,
   "metadata": {
    "colab": {
     "base_uri": "https://localhost:8080/"
    },
    "id": "qWpgIfxrHscT",
    "outputId": "ee3e8432-220c-4064-afed-2913caa2e3c6"
   },
   "outputs": [
    {
     "name": "stdout",
     "output_type": "stream",
     "text": [
      "True\n",
      "True\n",
      "True\n"
     ]
    }
   ],
   "source": [
    "print(torch.equal(q1_embed['quant'], q2_embed['quant']))\n",
    "print(torch.equal(q1_embed['min'], q2_embed['min']))\n",
    "print(torch.equal(q1_embed['scale'], q2_embed['scale']))\n"
   ]
  },
  {
   "cell_type": "code",
   "execution_count": null,
   "metadata": {
    "colab": {
     "base_uri": "https://localhost:8080/"
    },
    "id": "V83lMCCsIntY",
    "outputId": "307b2f41-9f26-4251-c5c6-1f6300d3a429"
   },
   "outputs": [
    {
     "data": {
      "text/plain": [
       "odict_keys(['decoder.0.conv.downconv.weight', 'decoder.0.conv.downconv.bias', 'decoder.1.conv.upconv.0.weight', 'decoder.1.conv.upconv.0.bias', 'decoder.2.conv.upconv.0.weight', 'decoder.2.conv.upconv.0.bias', 'decoder.3.conv.upconv.0.weight', 'decoder.3.conv.upconv.0.bias', 'decoder.4.conv.upconv.0.weight', 'decoder.4.conv.upconv.0.bias', 'decoder.5.conv.upconv.0.weight', 'decoder.5.conv.upconv.0.bias', 'head_layer.weight', 'head_layer.bias'])"
      ]
     },
     "execution_count": 21,
     "metadata": {},
     "output_type": "execute_result"
    }
   ],
   "source": [
    "q1_model.keys()"
   ]
  },
  {
   "cell_type": "code",
   "execution_count": null,
   "metadata": {
    "colab": {
     "base_uri": "https://localhost:8080/"
    },
    "id": "oPHEJeRuIIlx",
    "outputId": "32332402-6eda-4b47-f595-4fb754d611f4"
   },
   "outputs": [
    {
     "name": "stdout",
     "output_type": "stream",
     "text": [
      "True\n",
      "True\n",
      "True\n",
      "True\n",
      "True\n",
      "True\n",
      "True\n",
      "True\n",
      "True\n",
      "True\n",
      "True\n",
      "True\n",
      "True\n",
      "True\n",
      "True\n",
      "True\n",
      "True\n",
      "True\n",
      "True\n",
      "True\n",
      "True\n",
      "True\n",
      "True\n",
      "True\n",
      "True\n",
      "True\n",
      "True\n",
      "True\n",
      "True\n",
      "True\n",
      "True\n",
      "True\n",
      "True\n",
      "True\n",
      "True\n",
      "True\n",
      "True\n",
      "True\n",
      "True\n",
      "True\n",
      "True\n",
      "True\n"
     ]
    }
   ],
   "source": [
    "for i in q1_model.keys():\n",
    "  print(torch.equal(q1_model[i]['quant'], q2_model[i]['quant']))\n",
    "  print(torch.equal(q1_model[i]['min'], q2_model[i]['min']))\n",
    "  print(torch.equal(q1_model[i]['scale'], q2_model[i]['scale']))"
   ]
  },
  {
   "cell_type": "code",
   "execution_count": 7,
   "metadata": {
    "id": "B_0-VvNSH-2h"
   },
   "outputs": [],
   "source": [
    "# # replace 'model_weights.pt' with the path to your uncompressed model weights file\n",
    "# filename = 'quant_vid.pth'\n",
    "# filesize = os.path.getsize(filename) * 8\n",
    "# print(filesize)\n",
    "# num_parameters = 0\n",
    "# for i in q1_model.keys():\n",
    "#   size = q1_model[i]['quant'].numel*8\n",
    "# print(model_dict['embed']['quant'].numel()*8)\n",
    "# # model_weights = model_dict['model_state_dict']\n",
    "# filesize = os.path.getsize(model_dict['embed']) * 8\n",
    "\n",
    "\n",
    "# # # calculate bpp\n",
    "# # num_parameters = model_weights.numel()\n",
    "# # bpp = filesize / num_parameters\n",
    "# # print('bpp:', bpp)\n"
   ]
  },
  {
   "cell_type": "code",
   "execution_count": 6,
   "metadata": {
    "id": "3e46XokXOVZk"
   },
   "outputs": [],
   "source": []
  },
  {
   "cell_type": "code",
   "execution_count": null,
   "metadata": {
    "id": "kLpzkTFjP_hP"
   },
   "outputs": [],
   "source": [
    "args"
   ]
  }
 ],
 "metadata": {
  "accelerator": "GPU",
  "colab": {
   "gpuType": "T4",
   "provenance": []
  },
  "gpuClass": "standard",
  "kernelspec": {
   "display_name": "nerf",
   "language": "python",
   "name": "python3"
  },
  "language_info": {
   "name": "python"
  }
 },
 "nbformat": 4,
 "nbformat_minor": 4
}
