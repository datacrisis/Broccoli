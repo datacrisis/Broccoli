{
 "cells": [
  {
   "cell_type": "code",
   "execution_count": 1,
   "metadata": {},
   "outputs": [],
   "source": [
    "#Import \n",
    "import os\n",
    "import pandas as pd\n",
    "import matplotlib.pyplot as plt\n",
    "import numpy as np\n",
    "import shutil"
   ]
  },
  {
   "cell_type": "code",
   "execution_count": 220,
   "metadata": {},
   "outputs": [],
   "source": [
    "#Read\n",
    "base = 'batches/output'\n",
    "exps = os.listdir(base) #list of video instances trained\n",
    "\n",
    "#Example instance name format {UVGname}_sbatch_test_out_{qtm}_{qte}"
   ]
  },
  {
   "cell_type": "code",
   "execution_count": 59,
   "metadata": {},
   "outputs": [
    {
     "name": "stdout",
     "output_type": "stream",
     "text": [
      "Warning! Current code here does not catch all Experiments! Check me!\n",
      ">> Problem with:\n",
      "   >> beauty_sbatch_BS2_test_out_8_6\n"
     ]
    }
   ],
   "source": [
    "#Parse\n",
    "inst = []\n",
    "\n",
    "for i in exps:\n",
    "    \n",
    "    #Split first then store\n",
    "    try:\n",
    "        name,_,_,_,qtm,qte = i.split('_')\n",
    "    except:\n",
    "        print(\"Warning! Current code here does not catch all Experiments! Check me!\")\n",
    "        print(\">> Problem with:\")\n",
    "        print(\"   >> {}\".format(i))\n",
    "        continue\n",
    "        \n",
    "    inst.append({\n",
    "        'UVG_name':name,\n",
    "        'inst_name':'_'.join([name,qtm,qte]),\n",
    "        'quant_factor_model':qtm,\n",
    "        'quant_factor_embed':qte,\n",
    "        'path': os.path.join(os.getcwd(),base,i)\n",
    "    })"
   ]
  },
  {
   "cell_type": "code",
   "execution_count": 60,
   "metadata": {},
   "outputs": [
    {
     "data": {
      "text/plain": [
       "[{'UVG_name': 'beauty',\n",
       "  'inst_name': 'beauty_4_12',\n",
       "  'quant_factor_model': '4',\n",
       "  'quant_factor_embed': '12',\n",
       "  'path': '/scratch/kl3866/IVP/HNeRV/batches/output/beauty_sbatch_test_out_4_12'}]"
      ]
     },
     "execution_count": 60,
     "metadata": {},
     "output_type": "execute_result"
    }
   ],
   "source": [
    "inst[:1]"
   ]
  },
  {
   "cell_type": "code",
   "execution_count": 27,
   "metadata": {},
   "outputs": [
    {
     "name": "stdout",
     "output_type": "stream",
     "text": [
      "/scratch/kl3866/IVP/HNeRV/batches/compiled_out\n"
     ]
    }
   ],
   "source": [
    "#Go through each folder and copy and rename them\n",
    "target_dir = 'compiled_out'\n",
    "target_dir = os.path.join(os.getcwd(),'batches',target_dir)\n",
    "print(target_dir)"
   ]
  },
  {
   "cell_type": "code",
   "execution_count": 63,
   "metadata": {},
   "outputs": [],
   "source": [
    "#Loop thorugh each instance\n",
    "for i in inst:\n",
    "    \n",
    "    #Unpack\n",
    "    inst_name = i['inst_name']\n",
    "    qte,qtm = i['quant_factor_embed'],i['quant_factor_embed']\n",
    "    ori_path = i['path']\n",
    "    name_1 = os.listdir(ori_path)[0] #need to dive in 2 layers more due to struct of hnerv output\n",
    "    name_2 = os.listdir(os.path.join(ori_path,name_1))[0]\n",
    "    ori_path = os.path.join(ori_path,name_1,name_2) #ugly but works, final dir\n",
    "    \n",
    "    #To copy\n",
    "    target_path = os.path.join(target_dir,inst_name)\n",
    "    if not os.path.isdir(target_path): os.makedirs(target_path) #create dir if not exist yet\n",
    "            \n",
    "    ###Copy\n",
    "    #Quantized images\n",
    "    src = os.path.join(ori_path,'visualize_model_quant')\n",
    "    tgt = os.path.join(target_path,'pred_imgs_quantized')\n",
    "    shutil.copytree(src,tgt)\n",
    "    \n",
    "    #Raw pred images\n",
    "    src = os.path.join(ori_path,'visualize_model_orig')\n",
    "    tgt = os.path.join(target_path,'pred_imgs_raw')\n",
    "    shutil.copytree(src,tgt)\n",
    "    \n",
    "    #Metadata csv\n",
    "    src = os.path.join(ori_path,'epoch300.csv') #CHANGE ME WHEN EPOCH CHANGES\n",
    "    tgt = os.path.join(target_path,'metadata_{}.csv'.format(inst_name))\n",
    "    shutil.copy(src,tgt)\n"
   ]
  },
  {
   "cell_type": "markdown",
   "metadata": {},
   "source": [
    "_____"
   ]
  },
  {
   "cell_type": "code",
   "execution_count": 210,
   "metadata": {},
   "outputs": [],
   "source": [
    "#Read all csv and concat before outputing\n",
    "agg_df = []\n",
    "\n",
    "#Misc vars \n",
    "inst_name_ = []\n",
    "uvg_name_ = []\n",
    "qtm_ = []\n",
    "qte_ = []\n",
    "PSNR_avg = []\n",
    "for idx,i in enumerate(inst):\n",
    "    \n",
    "    #Unpack\n",
    "    inst_name = i['inst_name']\n",
    "    qte,qtm = i['quant_factor_embed'],i['quant_factor_model']\n",
    "    ori_path = i['path']\n",
    "    name_1 = os.listdir(ori_path)[0] #need to dive in 2 layers more due to struct of hnerv output\n",
    "    name_2 = os.listdir(os.path.join(ori_path,name_1))[0]\n",
    "    ori_path = os.path.join(ori_path,name_1,name_2) #ugly but works, final dir\n",
    "    \n",
    "\n",
    "    #Metadata csv\n",
    "    temp = pd.read_csv(os.path.join(ori_path,'epoch300.csv'),index_col=0)\n",
    "    psnr_ls = temp.PSNR_list_50.values[0].split(',')\n",
    "    psnr_ls = [float(i) for i in psnr_ls]\n",
    "    \n",
    "    inst_name_.append(inst_name)\n",
    "    uvg_name_.append(i['UVG_name'])\n",
    "    qtm_.append(qtm)\n",
    "    qte_.append(qte)\n",
    "    PSNR_avg.append(np.mean(psnr_ls))\n",
    "    \n",
    "    agg_df.append(temp)"
   ]
  },
  {
   "cell_type": "code",
   "execution_count": 211,
   "metadata": {},
   "outputs": [
    {
     "data": {
      "text/html": [
       "<div>\n",
       "<style scoped>\n",
       "    .dataframe tbody tr th:only-of-type {\n",
       "        vertical-align: middle;\n",
       "    }\n",
       "\n",
       "    .dataframe tbody tr th {\n",
       "        vertical-align: top;\n",
       "    }\n",
       "\n",
       "    .dataframe thead th {\n",
       "        text-align: right;\n",
       "    }\n",
       "</style>\n",
       "<table border=\"1\" class=\"dataframe\">\n",
       "  <thead>\n",
       "    <tr style=\"text-align: right;\">\n",
       "      <th></th>\n",
       "      <th>UVG Video Src</th>\n",
       "      <th>Instance Name</th>\n",
       "      <th>CurEpoch</th>\n",
       "      <th>Train Time</th>\n",
       "      <th>Compression Method</th>\n",
       "      <th>Compression Encoding Time</th>\n",
       "      <th>Compression Decoding Time</th>\n",
       "      <th>FPS (Quantized, Full Pass)</th>\n",
       "      <th>FPS (Quantized, Forward Pass)</th>\n",
       "      <th>FPS (Full Model, Full Pass)</th>\n",
       "      <th>...</th>\n",
       "      <th>best_quant_seen_ssim</th>\n",
       "      <th>best_quant_unseen_psnr</th>\n",
       "      <th>best_quant_unseen_ssim</th>\n",
       "      <th>pred_seen_psnr</th>\n",
       "      <th>pred_seen_ssim</th>\n",
       "      <th>pred_unseen_psnr</th>\n",
       "      <th>pred_unseen_ssim</th>\n",
       "      <th>QTE</th>\n",
       "      <th>QTM</th>\n",
       "      <th>Avg PSNR</th>\n",
       "    </tr>\n",
       "  </thead>\n",
       "  <tbody>\n",
       "    <tr>\n",
       "      <th>0</th>\n",
       "      <td>beauty</td>\n",
       "      <td>beauty_4_12</td>\n",
       "      <td>300</td>\n",
       "      <td>0:15:46.966341</td>\n",
       "      <td>huffman</td>\n",
       "      <td>0.066010</td>\n",
       "      <td>1.515363</td>\n",
       "      <td>7.431577</td>\n",
       "      <td>8.273401</td>\n",
       "      <td>5.942822</td>\n",
       "      <td>...</td>\n",
       "      <td>0.8122</td>\n",
       "      <td>0.0</td>\n",
       "      <td>0.0</td>\n",
       "      <td>26.68</td>\n",
       "      <td>0.8282</td>\n",
       "      <td>0.0</td>\n",
       "      <td>0.0</td>\n",
       "      <td>12</td>\n",
       "      <td>4</td>\n",
       "      <td>24.62875</td>\n",
       "    </tr>\n",
       "    <tr>\n",
       "      <th>1</th>\n",
       "      <td>beauty</td>\n",
       "      <td>beauty_32_2</td>\n",
       "      <td>300</td>\n",
       "      <td>0:15:48.059199</td>\n",
       "      <td>huffman</td>\n",
       "      <td>0.063780</td>\n",
       "      <td>0.667142</td>\n",
       "      <td>7.337985</td>\n",
       "      <td>8.157002</td>\n",
       "      <td>5.973090</td>\n",
       "      <td>...</td>\n",
       "      <td>0.8118</td>\n",
       "      <td>0.0</td>\n",
       "      <td>0.0</td>\n",
       "      <td>29.51</td>\n",
       "      <td>0.8811</td>\n",
       "      <td>0.0</td>\n",
       "      <td>0.0</td>\n",
       "      <td>2</td>\n",
       "      <td>32</td>\n",
       "      <td>28.48875</td>\n",
       "    </tr>\n",
       "    <tr>\n",
       "      <th>2</th>\n",
       "      <td>honeybee</td>\n",
       "      <td>honeybee_8_6</td>\n",
       "      <td>300</td>\n",
       "      <td>0:16:27.578649</td>\n",
       "      <td>huffman</td>\n",
       "      <td>0.066114</td>\n",
       "      <td>2.625243</td>\n",
       "      <td>7.316381</td>\n",
       "      <td>8.130655</td>\n",
       "      <td>5.910132</td>\n",
       "      <td>...</td>\n",
       "      <td>0.9617</td>\n",
       "      <td>0.0</td>\n",
       "      <td>0.0</td>\n",
       "      <td>30.79</td>\n",
       "      <td>0.9619</td>\n",
       "      <td>0.0</td>\n",
       "      <td>0.0</td>\n",
       "      <td>6</td>\n",
       "      <td>8</td>\n",
       "      <td>29.19875</td>\n",
       "    </tr>\n",
       "    <tr>\n",
       "      <th>3</th>\n",
       "      <td>bosphorus</td>\n",
       "      <td>bosphorus_8_18</td>\n",
       "      <td>300</td>\n",
       "      <td>0:15:44.278635</td>\n",
       "      <td>huffman</td>\n",
       "      <td>0.066761</td>\n",
       "      <td>2.684422</td>\n",
       "      <td>7.369738</td>\n",
       "      <td>8.197916</td>\n",
       "      <td>5.943723</td>\n",
       "      <td>...</td>\n",
       "      <td>0.8503</td>\n",
       "      <td>0.0</td>\n",
       "      <td>0.0</td>\n",
       "      <td>27.32</td>\n",
       "      <td>0.8507</td>\n",
       "      <td>0.0</td>\n",
       "      <td>0.0</td>\n",
       "      <td>18</td>\n",
       "      <td>8</td>\n",
       "      <td>26.63125</td>\n",
       "    </tr>\n",
       "    <tr>\n",
       "      <th>4</th>\n",
       "      <td>beauty</td>\n",
       "      <td>beauty_8_6</td>\n",
       "      <td>300</td>\n",
       "      <td>0:15:48.099681</td>\n",
       "      <td>huffman</td>\n",
       "      <td>0.065990</td>\n",
       "      <td>2.656368</td>\n",
       "      <td>7.357512</td>\n",
       "      <td>8.183621</td>\n",
       "      <td>5.911819</td>\n",
       "      <td>...</td>\n",
       "      <td>0.8164</td>\n",
       "      <td>0.0</td>\n",
       "      <td>0.0</td>\n",
       "      <td>26.08</td>\n",
       "      <td>0.8214</td>\n",
       "      <td>0.0</td>\n",
       "      <td>0.0</td>\n",
       "      <td>6</td>\n",
       "      <td>8</td>\n",
       "      <td>24.34250</td>\n",
       "    </tr>\n",
       "  </tbody>\n",
       "</table>\n",
       "<p>5 rows × 57 columns</p>\n",
       "</div>"
      ],
      "text/plain": [
       "  UVG Video Src   Instance Name  CurEpoch      Train Time Compression Method  \\\n",
       "0        beauty     beauty_4_12       300  0:15:46.966341            huffman   \n",
       "1        beauty     beauty_32_2       300  0:15:48.059199            huffman   \n",
       "2      honeybee    honeybee_8_6       300  0:16:27.578649            huffman   \n",
       "3     bosphorus  bosphorus_8_18       300  0:15:44.278635            huffman   \n",
       "4        beauty      beauty_8_6       300  0:15:48.099681            huffman   \n",
       "\n",
       "   Compression Encoding Time  Compression Decoding Time  \\\n",
       "0                   0.066010                   1.515363   \n",
       "1                   0.063780                   0.667142   \n",
       "2                   0.066114                   2.625243   \n",
       "3                   0.066761                   2.684422   \n",
       "4                   0.065990                   2.656368   \n",
       "\n",
       "   FPS (Quantized, Full Pass)  FPS (Quantized, Forward Pass)  \\\n",
       "0                    7.431577                       8.273401   \n",
       "1                    7.337985                       8.157002   \n",
       "2                    7.316381                       8.130655   \n",
       "3                    7.369738                       8.197916   \n",
       "4                    7.357512                       8.183621   \n",
       "\n",
       "   FPS (Full Model, Full Pass)  ...  best_quant_seen_ssim  \\\n",
       "0                     5.942822  ...                0.8122   \n",
       "1                     5.973090  ...                0.8118   \n",
       "2                     5.910132  ...                0.9617   \n",
       "3                     5.943723  ...                0.8503   \n",
       "4                     5.911819  ...                0.8164   \n",
       "\n",
       "   best_quant_unseen_psnr  best_quant_unseen_ssim  pred_seen_psnr  \\\n",
       "0                     0.0                     0.0           26.68   \n",
       "1                     0.0                     0.0           29.51   \n",
       "2                     0.0                     0.0           30.79   \n",
       "3                     0.0                     0.0           27.32   \n",
       "4                     0.0                     0.0           26.08   \n",
       "\n",
       "   pred_seen_ssim pred_unseen_psnr  pred_unseen_ssim QTE  QTM  Avg PSNR  \n",
       "0          0.8282              0.0               0.0  12    4  24.62875  \n",
       "1          0.8811              0.0               0.0   2   32  28.48875  \n",
       "2          0.9619              0.0               0.0   6    8  29.19875  \n",
       "3          0.8507              0.0               0.0  18    8  26.63125  \n",
       "4          0.8214              0.0               0.0   6    8  24.34250  \n",
       "\n",
       "[5 rows x 57 columns]"
      ]
     },
     "execution_count": 211,
     "metadata": {},
     "output_type": "execute_result"
    }
   ],
   "source": [
    "#Concat\n",
    "agg_df = pd.concat(agg_df)\n",
    "agg_df.reset_index(inplace=True)\n",
    "agg_df.drop(['index','Vid'],axis=1,inplace=True)\n",
    "\n",
    "#Insert cols\n",
    "agg_df['QTE'] = qte_\n",
    "agg_df['QTM'] = qtm_\n",
    "agg_df['Avg PSNR'] = PSNR_avg\n",
    "agg_df['UVG Video Src'] = uvg_name_\n",
    "agg_df['Instance Name'] = inst_name_\n",
    "\n",
    "\n",
    "#Rearrange\n",
    "cols = agg_df.columns\n",
    "cols = list(cols[-2:]) + list(cols[:-2])\n",
    "agg_df = agg_df[cols]\n",
    "\n",
    "agg_df.head()"
   ]
  },
  {
   "cell_type": "code",
   "execution_count": 212,
   "metadata": {},
   "outputs": [],
   "source": [
    "#Save out\n",
    "agg_df.to_csv('hnerv_agg_results.csv')"
   ]
  },
  {
   "cell_type": "code",
   "execution_count": 213,
   "metadata": {},
   "outputs": [],
   "source": [
    "#Quick viz\n",
    "beauty = agg_df.loc[agg_df['UVG Video Src'] == 'beauty']"
   ]
  },
  {
   "cell_type": "code",
   "execution_count": 215,
   "metadata": {},
   "outputs": [
    {
     "data": {
      "text/plain": [
       "<AxesSubplot:xlabel='bits/pixel', ylabel='Avg PSNR'>"
      ]
     },
     "execution_count": 215,
     "metadata": {},
     "output_type": "execute_result"
    },
    {
     "data": {
      "image/png": "[encoded data removed]",
      "text/plain": [
       "<Figure size 432x288 with 1 Axes>"
      ]
     },
     "metadata": {
      "needs_background": "light"
     },
     "output_type": "display_data"
    }
   ],
   "source": [
    "beauty[['Avg PSNR','bits/pixel']].plot.scatter(y='Avg PSNR',x='bits/pixel')"
   ]
  },
  {
   "cell_type": "code",
   "execution_count": 181,
   "metadata": {},
   "outputs": [
    {
     "data": {
      "text/plain": [
       "<AxesSubplot:xlabel='best_quant_seen_psnr', ylabel='best_pred_seen_psnr'>"
      ]
     },
     "execution_count": 181,
     "metadata": {},
     "output_type": "execute_result"
    },
    {
     "data": {
      "image/png": "[encoded data removed]",
      "text/plain": [
       "<Figure size 432x288 with 1 Axes>"
      ]
     },
     "metadata": {
      "needs_background": "light"
     },
     "output_type": "display_data"
    }
   ],
   "source": [
    "beauty[['best_pred_seen_psnr','best_quant_seen_psnr']].plot.scatter(y='best_pred_seen_psnr',x='best_quant_seen_psnr')"
   ]
  },
  {
   "cell_type": "code",
   "execution_count": 182,
   "metadata": {},
   "outputs": [
    {
     "data": {
      "text/plain": [
       "<AxesSubplot:xlabel='QTE', ylabel='best_quant_seen_psnr'>"
      ]
     },
     "execution_count": 182,
     "metadata": {},
     "output_type": "execute_result"
    },
    {
     "data": {
      "image/png": "[encoded data removed]",
      "text/plain": [
       "<Figure size 432x288 with 1 Axes>"
      ]
     },
     "metadata": {
      "needs_background": "light"
     },
     "output_type": "display_data"
    }
   ],
   "source": [
    "beauty[['best_quant_seen_psnr','QTE']].plot.scatter(y='best_quant_seen_psnr',x='QTE')"
   ]
  },
  {
   "cell_type": "code",
   "execution_count": 183,
   "metadata": {},
   "outputs": [
    {
     "data": {
      "text/plain": [
       "<AxesSubplot:xlabel='QTM', ylabel='best_quant_seen_psnr'>"
      ]
     },
     "execution_count": 183,
     "metadata": {},
     "output_type": "execute_result"
    },
    {
     "data": {
      "image/png": "[encoded data removed]",
      "text/plain": [
       "<Figure size 432x288 with 1 Axes>"
      ]
     },
     "metadata": {
      "needs_background": "light"
     },
     "output_type": "display_data"
    }
   ],
   "source": [
    "beauty[['best_quant_seen_psnr','QTM']].plot.scatter(y='best_quant_seen_psnr',x='QTM')"
   ]
  },
  {
   "cell_type": "code",
   "execution_count": 184,
   "metadata": {},
   "outputs": [
    {
     "data": {
      "text/plain": [
       "<AxesSubplot:xlabel='QTM', ylabel='bits/pixel'>"
      ]
     },
     "execution_count": 184,
     "metadata": {},
     "output_type": "execute_result"
    },
    {
     "data": {
      "image/png": "[encoded data removed]",
      "text/plain": [
       "<Figure size 432x288 with 1 Axes>"
      ]
     },
     "metadata": {
      "needs_background": "light"
     },
     "output_type": "display_data"
    }
   ],
   "source": [
    "beauty[['bits/pixel','QTM']].plot.scatter(y='bits/pixel',x='QTM')"
   ]
  },
  {
   "cell_type": "code",
   "execution_count": 185,
   "metadata": {},
   "outputs": [
    {
     "data": {
      "text/plain": [
       "<AxesSubplot:xlabel='QTE', ylabel='bits/pixel'>"
      ]
     },
     "execution_count": 185,
     "metadata": {},
     "output_type": "execute_result"
    },
    {
     "data": {
      "image/png": "[encoded data removed]",
      "text/plain": [
       "<Figure size 432x288 with 1 Axes>"
      ]
     },
     "metadata": {
      "needs_background": "light"
     },
     "output_type": "display_data"
    }
   ],
   "source": [
    "beauty[['bits/pixel','QTE']].plot.scatter(y='bits/pixel',x='QTE')"
   ]
  },
  {
   "cell_type": "code",
   "execution_count": 186,
   "metadata": {},
   "outputs": [],
   "source": [
    "#Isolate individual level"
   ]
  },
  {
   "cell_type": "code",
   "execution_count": 218,
   "metadata": {},
   "outputs": [
    {
     "name": "stdout",
     "output_type": "stream",
     "text": [
      "    Avg PSNR  bits/pixel QTE QTM\n",
      "1   28.48875    0.033647   2  32\n",
      "7   27.79125    0.226899   2   8\n",
      "23  27.22000    0.216121   2  16\n",
      "26  27.95500    0.120359   2   4\n",
      "    Avg PSNR  bits/pixel QTE QTM\n",
      "4   24.34250    0.227005   6   8\n",
      "20  24.63125    0.037952   6  32\n",
      "38  26.51125    0.121503   6   4\n",
      "44  27.01625    0.216123   6  16\n",
      "    Avg PSNR  bits/pixel QTE QTM\n",
      "15  28.66625    0.216051  18  16\n",
      "18  25.24625    0.122612  18   4\n",
      "24  28.02250    0.037519  18  32\n",
      "36  26.76250    0.226939  18   8\n",
      "    Avg PSNR  bits/pixel QTE QTM\n",
      "0   24.62875    0.122511  12   4\n",
      "16  27.93125    0.226982  12   8\n",
      "29  26.46500    0.038759  12  32\n",
      "46  28.32500    0.216078  12  16\n"
     ]
    },
    {
     "data": {
      "image/png": "[encoded data removed]",
      "text/plain": [
       "<Figure size 1440x288 with 4 Axes>"
      ]
     },
     "metadata": {
      "needs_background": "light"
     },
     "output_type": "display_data"
    }
   ],
   "source": [
    "set_qte = list(set(qte_))\n",
    "ct = len(set_qte)\n",
    "fig, axs = plt.subplots(1, ct, figsize=(20,4))\n",
    "\n",
    "for idx,i in enumerate(set_qte):\n",
    "    temp = beauty[['Avg PSNR','bits/pixel','QTE','QTM']]\n",
    "    temp = temp.loc[temp.QTE == i]\n",
    "    \n",
    "    print(temp)\n",
    "    axs[idx].scatter(y=temp['Avg PSNR'],x=temp['bits/pixel'],s=temp['QTM'].astype(int)*20)\n",
    "    axs[idx].set_title('Best PSNR vs BPP | QTE of {}'.format(i))\n",
    "\n",
    "for ax in axs.flat:\n",
    "    ax.set(xlabel='BPP', ylabel='Best PSNR')\n",
    "\n",
    "# Hide x labels and tick labels for top plots and y ticks for right plots.\n",
    "for ax in axs.flat:\n",
    "    ax.label_outer()"
   ]
  },
  {
   "cell_type": "code",
   "execution_count": 219,
   "metadata": {},
   "outputs": [
    {
     "name": "stdout",
     "output_type": "stream",
     "text": [
      "    Avg PSNR  bits/pixel QTE QTM\n",
      "1   28.48875    0.033647   2  32\n",
      "20  24.63125    0.037952   6  32\n",
      "24  28.02250    0.037519  18  32\n",
      "29  26.46500    0.038759  12  32\n",
      "    Avg PSNR  bits/pixel QTE QTM\n",
      "0   24.62875    0.122511  12   4\n",
      "18  25.24625    0.122612  18   4\n",
      "26  27.95500    0.120359   2   4\n",
      "38  26.51125    0.121503   6   4\n",
      "    Avg PSNR  bits/pixel QTE QTM\n",
      "4   24.34250    0.227005   6   8\n",
      "7   27.79125    0.226899   2   8\n",
      "16  27.93125    0.226982  12   8\n",
      "36  26.76250    0.226939  18   8\n",
      "    Avg PSNR  bits/pixel QTE QTM\n",
      "15  28.66625    0.216051  18  16\n",
      "23  27.22000    0.216121   2  16\n",
      "44  27.01625    0.216123   6  16\n",
      "46  28.32500    0.216078  12  16\n"
     ]
    },
    {
     "data": {
      "image/png": "[encoded data removed]",
      "text/plain": [
       "<Figure size 1440x288 with 4 Axes>"
      ]
     },
     "metadata": {
      "needs_background": "light"
     },
     "output_type": "display_data"
    }
   ],
   "source": [
    "set_qtm = list(set(qtm_))\n",
    "ct = len(set_qtm)\n",
    "fig, axs = plt.subplots(1, ct, figsize=(20,4))\n",
    "\n",
    "for idx,i in enumerate(set_qtm):\n",
    "    temp = beauty[['Avg PSNR','bits/pixel','QTE','QTM']]\n",
    "    temp = temp.loc[temp.QTM == i]\n",
    "    \n",
    "    print(temp)\n",
    "    axs[idx].scatter(y=temp['Avg PSNR'],x=temp['bits/pixel'],s=temp['QTE'].astype(int)*20)\n",
    "    axs[idx].set_title('Best PSNR vs BPP | QTM of {}'.format(i))\n",
    "\n",
    "for ax in axs.flat:\n",
    "    ax.set(xlabel='BPP', ylabel='Best PSNR')\n",
    "\n",
    "# Hide x labels and tick labels for top plots and y ticks for right plots.\n",
    "for ax in axs.flat:\n",
    "    ax.label_outer()"
   ]
  },
  {
   "cell_type": "code",
   "execution_count": 239,
   "metadata": {},
   "outputs": [
    {
     "data": {
      "text/html": [
       "<div>\n",
       "<style scoped>\n",
       "    .dataframe tbody tr th:only-of-type {\n",
       "        vertical-align: middle;\n",
       "    }\n",
       "\n",
       "    .dataframe tbody tr th {\n",
       "        vertical-align: top;\n",
       "    }\n",
       "\n",
       "    .dataframe thead th {\n",
       "        text-align: right;\n",
       "    }\n",
       "</style>\n",
       "<table border=\"1\" class=\"dataframe\">\n",
       "  <thead>\n",
       "    <tr style=\"text-align: right;\">\n",
       "      <th></th>\n",
       "      <th>UVG Video Src</th>\n",
       "      <th>QTE</th>\n",
       "      <th>QTM</th>\n",
       "      <th>bits/pixel</th>\n",
       "      <th>Avg PSNR</th>\n",
       "      <th>best_quant_seen_psnr</th>\n",
       "      <th>best_pred_seen_psnr</th>\n",
       "      <th>FPS (Full Model, Full Pass)</th>\n",
       "      <th>FPS (Quantized, Full Pass)</th>\n",
       "    </tr>\n",
       "  </thead>\n",
       "  <tbody>\n",
       "    <tr>\n",
       "      <th>4</th>\n",
       "      <td>beauty</td>\n",
       "      <td>6</td>\n",
       "      <td>8</td>\n",
       "      <td>0.227005</td>\n",
       "      <td>24.34250</td>\n",
       "      <td>25.61</td>\n",
       "      <td>26.08</td>\n",
       "      <td>5.911819</td>\n",
       "      <td>7.357512</td>\n",
       "    </tr>\n",
       "    <tr>\n",
       "      <th>6</th>\n",
       "      <td>bosphorus</td>\n",
       "      <td>6</td>\n",
       "      <td>8</td>\n",
       "      <td>0.226388</td>\n",
       "      <td>26.76000</td>\n",
       "      <td>27.19</td>\n",
       "      <td>27.53</td>\n",
       "      <td>5.891778</td>\n",
       "      <td>7.333042</td>\n",
       "    </tr>\n",
       "    <tr>\n",
       "      <th>2</th>\n",
       "      <td>honeybee</td>\n",
       "      <td>6</td>\n",
       "      <td>8</td>\n",
       "      <td>0.225731</td>\n",
       "      <td>29.19875</td>\n",
       "      <td>30.76</td>\n",
       "      <td>30.79</td>\n",
       "      <td>5.910132</td>\n",
       "      <td>7.316381</td>\n",
       "    </tr>\n",
       "  </tbody>\n",
       "</table>\n",
       "</div>"
      ],
      "text/plain": [
       "  UVG Video Src QTE QTM  bits/pixel  Avg PSNR  best_quant_seen_psnr  \\\n",
       "4        beauty   6   8    0.227005  24.34250                 25.61   \n",
       "6     bosphorus   6   8    0.226388  26.76000                 27.19   \n",
       "2      honeybee   6   8    0.225731  29.19875                 30.76   \n",
       "\n",
       "   best_pred_seen_psnr  FPS (Full Model, Full Pass)  \\\n",
       "4                26.08                     5.911819   \n",
       "6                27.53                     5.891778   \n",
       "2                30.79                     5.910132   \n",
       "\n",
       "   FPS (Quantized, Full Pass)  \n",
       "4                    7.357512  \n",
       "6                    7.333042  \n",
       "2                    7.316381  "
      ]
     },
     "execution_count": 239,
     "metadata": {},
     "output_type": "execute_result"
    }
   ],
   "source": [
    "#Per paper\n",
    "cols = ['UVG Video Src','QTE','QTM','bits/pixel','Avg PSNR','best_quant_seen_psnr','best_pred_seen_psnr','FPS (Full Model, Full Pass)','FPS (Quantized, Full Pass)']\n",
    "default = agg_df.loc[(agg_df.QTM=='8') & (agg_df.QTE=='6')]\n",
    "\n",
    "default[cols].sort_values('UVG Video Src')"
   ]
  },
  {
   "cell_type": "code",
   "execution_count": 240,
   "metadata": {},
   "outputs": [
    {
     "data": {
      "text/html": [
       "<div>\n",
       "<style scoped>\n",
       "    .dataframe tbody tr th:only-of-type {\n",
       "        vertical-align: middle;\n",
       "    }\n",
       "\n",
       "    .dataframe tbody tr th {\n",
       "        vertical-align: top;\n",
       "    }\n",
       "\n",
       "    .dataframe thead th {\n",
       "        text-align: right;\n",
       "    }\n",
       "</style>\n",
       "<table border=\"1\" class=\"dataframe\">\n",
       "  <thead>\n",
       "    <tr style=\"text-align: right;\">\n",
       "      <th></th>\n",
       "      <th>bits/pixel</th>\n",
       "      <th>Avg PSNR</th>\n",
       "      <th>best_quant_seen_psnr</th>\n",
       "      <th>best_pred_seen_psnr</th>\n",
       "      <th>FPS (Full Model, Full Pass)</th>\n",
       "      <th>FPS (Quantized, Full Pass)</th>\n",
       "    </tr>\n",
       "    <tr>\n",
       "      <th>UVG Video Src</th>\n",
       "      <th></th>\n",
       "      <th></th>\n",
       "      <th></th>\n",
       "      <th></th>\n",
       "      <th></th>\n",
       "      <th></th>\n",
       "    </tr>\n",
       "  </thead>\n",
       "  <tbody>\n",
       "    <tr>\n",
       "      <th>beauty</th>\n",
       "      <td>0.150441</td>\n",
       "      <td>26.875234</td>\n",
       "      <td>25.236250</td>\n",
       "      <td>28.240000</td>\n",
       "      <td>5.934176</td>\n",
       "      <td>7.341495</td>\n",
       "    </tr>\n",
       "    <tr>\n",
       "      <th>bosphorus</th>\n",
       "      <td>0.150349</td>\n",
       "      <td>26.912109</td>\n",
       "      <td>27.100000</td>\n",
       "      <td>27.754375</td>\n",
       "      <td>5.936019</td>\n",
       "      <td>7.345343</td>\n",
       "    </tr>\n",
       "    <tr>\n",
       "      <th>honeybee</th>\n",
       "      <td>0.149670</td>\n",
       "      <td>29.194688</td>\n",
       "      <td>30.464375</td>\n",
       "      <td>30.782500</td>\n",
       "      <td>5.938772</td>\n",
       "      <td>7.335489</td>\n",
       "    </tr>\n",
       "  </tbody>\n",
       "</table>\n",
       "</div>"
      ],
      "text/plain": [
       "               bits/pixel   Avg PSNR  best_quant_seen_psnr  \\\n",
       "UVG Video Src                                                \n",
       "beauty           0.150441  26.875234             25.236250   \n",
       "bosphorus        0.150349  26.912109             27.100000   \n",
       "honeybee         0.149670  29.194688             30.464375   \n",
       "\n",
       "               best_pred_seen_psnr  FPS (Full Model, Full Pass)  \\\n",
       "UVG Video Src                                                     \n",
       "beauty                   28.240000                     5.934176   \n",
       "bosphorus                27.754375                     5.936019   \n",
       "honeybee                 30.782500                     5.938772   \n",
       "\n",
       "               FPS (Quantized, Full Pass)  \n",
       "UVG Video Src                              \n",
       "beauty                           7.341495  \n",
       "bosphorus                        7.345343  \n",
       "honeybee                         7.335489  "
      ]
     },
     "execution_count": 240,
     "metadata": {},
     "output_type": "execute_result"
    }
   ],
   "source": [
    "gamut = agg_df[cols]\n",
    "\n",
    "gamut.groupby(by=['UVG Video Src']).mean().sort_values('UVG Video Src')"
   ]
  },
  {
   "cell_type": "code",
   "execution_count": 241,
   "metadata": {},
   "outputs": [
    {
     "data": {
      "text/html": [
       "<div>\n",
       "<style scoped>\n",
       "    .dataframe tbody tr th:only-of-type {\n",
       "        vertical-align: middle;\n",
       "    }\n",
       "\n",
       "    .dataframe tbody tr th {\n",
       "        vertical-align: top;\n",
       "    }\n",
       "\n",
       "    .dataframe thead th {\n",
       "        text-align: right;\n",
       "    }\n",
       "</style>\n",
       "<table border=\"1\" class=\"dataframe\">\n",
       "  <thead>\n",
       "    <tr style=\"text-align: right;\">\n",
       "      <th></th>\n",
       "      <th>QTE</th>\n",
       "      <th>QTM</th>\n",
       "      <th>bits/pixel</th>\n",
       "      <th>Avg PSNR</th>\n",
       "      <th>best_quant_seen_psnr</th>\n",
       "      <th>best_pred_seen_psnr</th>\n",
       "      <th>FPS (Full Model, Full Pass)</th>\n",
       "      <th>FPS (Quantized, Full Pass)</th>\n",
       "    </tr>\n",
       "    <tr>\n",
       "      <th>UVG Video Src</th>\n",
       "      <th></th>\n",
       "      <th></th>\n",
       "      <th></th>\n",
       "      <th></th>\n",
       "      <th></th>\n",
       "      <th></th>\n",
       "      <th></th>\n",
       "      <th></th>\n",
       "    </tr>\n",
       "  </thead>\n",
       "  <tbody>\n",
       "    <tr>\n",
       "      <th>beauty</th>\n",
       "      <td>12</td>\n",
       "      <td>16</td>\n",
       "      <td>0.033647</td>\n",
       "      <td>24.34250</td>\n",
       "      <td>24.41</td>\n",
       "      <td>26.08</td>\n",
       "      <td>5.813462</td>\n",
       "      <td>7.305546</td>\n",
       "    </tr>\n",
       "    <tr>\n",
       "      <th>bosphorus</th>\n",
       "      <td>12</td>\n",
       "      <td>16</td>\n",
       "      <td>0.037064</td>\n",
       "      <td>26.63000</td>\n",
       "      <td>26.67</td>\n",
       "      <td>27.32</td>\n",
       "      <td>5.891778</td>\n",
       "      <td>7.302916</td>\n",
       "    </tr>\n",
       "    <tr>\n",
       "      <th>honeybee</th>\n",
       "      <td>12</td>\n",
       "      <td>16</td>\n",
       "      <td>0.035321</td>\n",
       "      <td>29.17375</td>\n",
       "      <td>29.54</td>\n",
       "      <td>30.77</td>\n",
       "      <td>5.901741</td>\n",
       "      <td>7.296031</td>\n",
       "    </tr>\n",
       "  </tbody>\n",
       "</table>\n",
       "</div>"
      ],
      "text/plain": [
       "              QTE QTM  bits/pixel  Avg PSNR  best_quant_seen_psnr  \\\n",
       "UVG Video Src                                                       \n",
       "beauty         12  16    0.033647  24.34250                 24.41   \n",
       "bosphorus      12  16    0.037064  26.63000                 26.67   \n",
       "honeybee       12  16    0.035321  29.17375                 29.54   \n",
       "\n",
       "               best_pred_seen_psnr  FPS (Full Model, Full Pass)  \\\n",
       "UVG Video Src                                                     \n",
       "beauty                       26.08                     5.813462   \n",
       "bosphorus                    27.32                     5.891778   \n",
       "honeybee                     30.77                     5.901741   \n",
       "\n",
       "               FPS (Quantized, Full Pass)  \n",
       "UVG Video Src                              \n",
       "beauty                           7.305546  \n",
       "bosphorus                        7.302916  \n",
       "honeybee                         7.296031  "
      ]
     },
     "execution_count": 241,
     "metadata": {},
     "output_type": "execute_result"
    }
   ],
   "source": [
    "gamut.groupby(by=['UVG Video Src']).min().sort_values('UVG Video Src')"
   ]
  },
  {
   "cell_type": "code",
   "execution_count": 242,
   "metadata": {},
   "outputs": [
    {
     "data": {
      "text/html": [
       "<div>\n",
       "<style scoped>\n",
       "    .dataframe tbody tr th:only-of-type {\n",
       "        vertical-align: middle;\n",
       "    }\n",
       "\n",
       "    .dataframe tbody tr th {\n",
       "        vertical-align: top;\n",
       "    }\n",
       "\n",
       "    .dataframe thead th {\n",
       "        text-align: right;\n",
       "    }\n",
       "</style>\n",
       "<table border=\"1\" class=\"dataframe\">\n",
       "  <thead>\n",
       "    <tr style=\"text-align: right;\">\n",
       "      <th></th>\n",
       "      <th>QTE</th>\n",
       "      <th>QTM</th>\n",
       "      <th>bits/pixel</th>\n",
       "      <th>Avg PSNR</th>\n",
       "      <th>best_quant_seen_psnr</th>\n",
       "      <th>best_pred_seen_psnr</th>\n",
       "      <th>FPS (Full Model, Full Pass)</th>\n",
       "      <th>FPS (Quantized, Full Pass)</th>\n",
       "    </tr>\n",
       "    <tr>\n",
       "      <th>UVG Video Src</th>\n",
       "      <th></th>\n",
       "      <th></th>\n",
       "      <th></th>\n",
       "      <th></th>\n",
       "      <th></th>\n",
       "      <th></th>\n",
       "      <th></th>\n",
       "      <th></th>\n",
       "    </tr>\n",
       "  </thead>\n",
       "  <tbody>\n",
       "    <tr>\n",
       "      <th>beauty</th>\n",
       "      <td>6</td>\n",
       "      <td>8</td>\n",
       "      <td>0.227005</td>\n",
       "      <td>28.66625</td>\n",
       "      <td>25.61</td>\n",
       "      <td>29.65</td>\n",
       "      <td>6.000248</td>\n",
       "      <td>7.431577</td>\n",
       "    </tr>\n",
       "    <tr>\n",
       "      <th>bosphorus</th>\n",
       "      <td>6</td>\n",
       "      <td>8</td>\n",
       "      <td>0.226388</td>\n",
       "      <td>27.82500</td>\n",
       "      <td>27.31</td>\n",
       "      <td>28.99</td>\n",
       "      <td>5.977123</td>\n",
       "      <td>7.397156</td>\n",
       "    </tr>\n",
       "    <tr>\n",
       "      <th>honeybee</th>\n",
       "      <td>6</td>\n",
       "      <td>8</td>\n",
       "      <td>0.225731</td>\n",
       "      <td>29.21500</td>\n",
       "      <td>30.78</td>\n",
       "      <td>30.80</td>\n",
       "      <td>6.023462</td>\n",
       "      <td>7.414666</td>\n",
       "    </tr>\n",
       "  </tbody>\n",
       "</table>\n",
       "</div>"
      ],
      "text/plain": [
       "              QTE QTM  bits/pixel  Avg PSNR  best_quant_seen_psnr  \\\n",
       "UVG Video Src                                                       \n",
       "beauty          6   8    0.227005  28.66625                 25.61   \n",
       "bosphorus       6   8    0.226388  27.82500                 27.31   \n",
       "honeybee        6   8    0.225731  29.21500                 30.78   \n",
       "\n",
       "               best_pred_seen_psnr  FPS (Full Model, Full Pass)  \\\n",
       "UVG Video Src                                                     \n",
       "beauty                       29.65                     6.000248   \n",
       "bosphorus                    28.99                     5.977123   \n",
       "honeybee                     30.80                     6.023462   \n",
       "\n",
       "               FPS (Quantized, Full Pass)  \n",
       "UVG Video Src                              \n",
       "beauty                           7.431577  \n",
       "bosphorus                        7.397156  \n",
       "honeybee                         7.414666  "
      ]
     },
     "execution_count": 242,
     "metadata": {},
     "output_type": "execute_result"
    }
   ],
   "source": [
    "gamut.groupby(by=['UVG Video Src']).max().sort_values('UVG Video Src')"
   ]
  },
  {
   "cell_type": "code",
   "execution_count": null,
   "metadata": {},
   "outputs": [],
   "source": []
  }
 ],
 "metadata": {
  "kernelspec": {
   "display_name": "active_nerf",
   "language": "python",
   "name": "active_nerf"
  },
  "language_info": {
   "codemirror_mode": {
    "name": "ipython",
    "version": 3
   },
   "file_extension": ".py",
   "mimetype": "text/x-python",
   "name": "python",
   "nbconvert_exporter": "python",
   "pygments_lexer": "ipython3",
   "version": "3.6.13"
  }
 },
 "nbformat": 4,
 "nbformat_minor": 4
}
