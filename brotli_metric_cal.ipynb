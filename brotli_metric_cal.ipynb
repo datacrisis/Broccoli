{
 "cells": [
  {
   "cell_type": "code",
   "execution_count": 39,
   "id": "7e455aae",
   "metadata": {},
   "outputs": [],
   "source": [
    "import subprocess\n",
    "import os\n",
    "import time"
   ]
  },
  {
   "cell_type": "code",
   "execution_count": 5,
   "id": "4444df9f",
   "metadata": {},
   "outputs": [
    {
     "name": "stdout",
     "output_type": "stream",
     "text": [
      "Requirement already satisfied: brotli in /Users/utkarshatri/opt/anaconda3/envs/atri/lib/python3.9/site-packages (1.0.9)\n",
      "\u001b[33mWARNING: You are using pip version 22.0.4; however, version 23.1.2 is available.\n",
      "You should consider upgrading via the '/Users/utkarshatri/opt/anaconda3/envs/atri/bin/python -m pip install --upgrade pip' command.\u001b[0m\u001b[33m\n",
      "\u001b[0mNote: you may need to restart the kernel to use updated packages.\n"
     ]
    }
   ],
   "source": [
    "pip install brotli"
   ]
  },
  {
   "cell_type": "code",
   "execution_count": 3,
   "id": "8d4be67c",
   "metadata": {},
   "outputs": [
    {
     "data": {
      "text/plain": [
       "CompletedProcess(args=['brotli', '-q', '11', '-o', 'compressed_model_1.pth.br', 'quant_vid.pth'], returncode=0)"
      ]
     },
     "execution_count": 3,
     "metadata": {},
     "output_type": "execute_result"
    }
   ],
   "source": [
    "subprocess.run([\"brotli\", \"-q\", \"11\", \"-o\", \"compressed_model_1.pth.br\", \"quant_vid.pth\"])\n"
   ]
  },
  {
   "cell_type": "code",
   "execution_count": 6,
   "id": "8a12616c",
   "metadata": {},
   "outputs": [],
   "source": [
    "import zipfile\n",
    "\n",
    "with zipfile.ZipFile('hnerv_quant_weights.zip', 'r') as zip_ref:\n",
    "    # Get a list of all file names in the zip file\n",
    "    file_names = zip_ref.namelist()"
   ]
  },
  {
   "cell_type": "code",
   "execution_count": 7,
   "id": "6308cd29",
   "metadata": {},
   "outputs": [
    {
     "data": {
      "text/plain": [
       "'2x_Beauty_QTM32_QTE6/1_1_1__Dim64_16_FC9_16_KS0_1_5_RED1.2_low12_blk1_1_e600_b1_quant_M32_E6_lr0.001_cosine_0.1_1_0.1_L2_Size1.5_ENC_convnext_5,4,4,3,2_DEC_pshuffel_5,4,4,3,2_gelu1_1/quant_vid.pth'"
      ]
     },
     "execution_count": 7,
     "metadata": {},
     "output_type": "execute_result"
    }
   ],
   "source": [
    "file_names[0]"
   ]
  },
  {
   "cell_type": "code",
   "execution_count": 18,
   "id": "0e547d69",
   "metadata": {},
   "outputs": [
    {
     "name": "stdout",
     "output_type": "stream",
     "text": [
      "12269952\n"
     ]
    }
   ],
   "source": [
    "arb_filename = 'hnerv_quant_weights/'+file_names[2]\n",
    "total_bits = os.path.getsize(arb_filename) * 8\n",
    "print(total_bits)"
   ]
  },
  {
   "cell_type": "code",
   "execution_count": 19,
   "id": "8d212b95",
   "metadata": {
    "scrolled": true
   },
   "outputs": [
    {
     "data": {
      "text/plain": [
       "CompletedProcess(args=['brotli', '-q', '11', '-o', 'local_test.pth.br', 'hnerv_quant_weights/2x_CityAlley_QTM32_QTE6/1_1_1__Dim64_16_FC9_16_KS0_1_5_RED1.2_low12_blk1_1_e600_b1_quant_M32_E6_lr0.001_cosine_0.1_1_0.1_L2_Size1.5_ENC_convnext_5,4,4,3,2_DEC_pshuffel_5,4,4,3,2_gelu1_1/quant_vid.pth'], returncode=0)"
      ]
     },
     "execution_count": 19,
     "metadata": {},
     "output_type": "execute_result"
    }
   ],
   "source": [
    "subprocess.run(['brotli', '-q', '11', '-o', 'local_test.pth.br', arb_filename])"
   ]
  },
  {
   "cell_type": "code",
   "execution_count": 23,
   "id": "16c69a42",
   "metadata": {},
   "outputs": [],
   "source": [
    "total_bits = os.path.getsize('local_test.pth.br') * 8"
   ]
  },
  {
   "cell_type": "code",
   "execution_count": 24,
   "id": "38dc38f3",
   "metadata": {},
   "outputs": [],
   "source": [
    "res = 1920*960\n",
    "bpf = total_bits/res"
   ]
  },
  {
   "cell_type": "code",
   "execution_count": 28,
   "id": "e5592acd",
   "metadata": {},
   "outputs": [],
   "source": [
    "nf = 120\n",
    "bpp = bpf/nf"
   ]
  },
  {
   "cell_type": "code",
   "execution_count": 41,
   "id": "961674d7",
   "metadata": {},
   "outputs": [
    {
     "name": "stdout",
     "output_type": "stream",
     "text": [
      "1683519289.334284\n"
     ]
    }
   ],
   "source": [
    "print(time.time())"
   ]
  },
  {
   "cell_type": "code",
   "execution_count": 42,
   "id": "a912082a",
   "metadata": {},
   "outputs": [
    {
     "name": "stderr",
     "output_type": "stream",
     "text": [
      "failed to open output file [compressed_quant_vid11.pth.br]: File exists\n",
      "failed to open output file [hnerv_quant_weights/2x_Beauty_QTM32_QTE6/1_1_1__Dim64_16_FC9_16_KS0_1_5_RED1.2_low12_blk1_1_e600_b1_quant_M32_E6_lr0.001_cosine_0.1_1_0.1_L2_Size1.5_ENC_convnext_5,4,4,3,2_DEC_pshuffel_5,4,4,3,2_gelu1_1/quant_vid.pth]: File exists\n",
      "failed to open output file [hnerv_quant_weights/2x_Bosphorus_QTM32_QTE6/1_1_1__Dim64_16_FC9_16_KS0_1_5_RED1.2_low12_blk1_1_e600_b1_quant_M32_E6_lr0.001_cosine_0.1_1_0.1_L2_Size1.5_ENC_convnext_5,4,4,3,2_DEC_pshuffel_5,4,4,3,2_gelu1_1/quant_vid.pth]: File exists\n",
      "failed to open output file [hnerv_quant_weights/2x_CityAlley_QTM32_QTE6/1_1_1__Dim64_16_FC9_16_KS0_1_5_RED1.2_low12_blk1_1_e600_b1_quant_M32_E6_lr0.001_cosine_0.1_1_0.1_L2_Size1.5_ENC_convnext_5,4,4,3,2_DEC_pshuffel_5,4,4,3,2_gelu1_1/quant_vid.pth]: File exists\n",
      "failed to open output file [hnerv_quant_weights/2x_FlowerFocus_QTM32_QTE6/1_1_1__Dim64_16_FC9_16_KS0_1_5_RED1.2_low12_blk1_1_e600_b1_quant_M32_E6_lr0.001_cosine_0.1_1_0.1_L2_Size1.5_ENC_convnext_5,4,4,3,2_DEC_pshuffel_5,4,4,3,2_gelu1_1/quant_vid.pth]: File exists\n",
      "failed to open output file [hnerv_quant_weights/2x_FlowerKids_QTM32_QTE6/1_1_1__Dim64_16_FC9_16_KS0_1_5_RED1.2_low12_blk1_1_e600_b1_quant_M32_E6_lr0.001_cosine_0.1_1_0.1_L2_Size1.5_ENC_convnext_5,4,4,3,2_DEC_pshuffel_5,4,4,3,2_gelu1_1/quant_vid.pth]: File exists\n",
      "failed to open output file [hnerv_quant_weights/2x_HoneyBee_QTM32_QTE6/1_1_1__Dim64_16_FC9_16_KS0_1_5_RED1.2_low12_blk1_1_e600_b1_quant_M32_E6_lr0.001_cosine_0.1_1_0.1_L2_Size1.5_ENC_convnext_5,4,4,3,2_DEC_pshuffel_5,4,4,3,2_gelu1_1/quant_vid.pth]: File exists\n",
      "failed to open output file [hnerv_quant_weights/2x_Jockey_QTM32_QTE6/1_1_1__Dim64_16_FC9_16_KS0_1_5_RED1.2_low12_blk1_1_e600_b1_quant_M32_E6_lr0.001_cosine_0.1_1_0.1_L2_Size1.5_ENC_convnext_5,4,4,3,2_DEC_pshuffel_5,4,4,3,2_gelu1_1/quant_vid.pth]: File exists\n",
      "failed to open output file [hnerv_quant_weights/2x_RaceNight_QTM32_QTE6/1_1_1__Dim64_16_FC9_16_KS0_1_5_RED1.2_low12_blk1_1_e600_b1_quant_M32_E6_lr0.001_cosine_0.1_1_0.1_L2_Size1.5_ENC_convnext_5,4,4,3,2_DEC_pshuffel_5,4,4,3,2_gelu1_1/quant_vid.pth]: File exists\n",
      "failed to open output file [hnerv_quant_weights/2x_ReadySteadyGo_QTM32_QTE6/1_1_1__Dim64_16_FC9_16_KS0_1_5_RED1.2_low12_blk1_1_e600_b1_quant_M32_E6_lr0.001_cosine_0.1_1_0.1_L2_Size1.5_ENC_convnext_5,4,4,3,2_DEC_pshuffel_5,4,4,3,2_gelu1_1/quant_vid.pth]: File exists\n",
      "failed to open output file [hnerv_quant_weights/2x_RiverBank_QTM32_QTE6/1_1_1__Dim64_16_FC9_16_KS0_1_5_RED1.2_low12_blk1_1_e600_b1_quant_M32_E6_lr0.001_cosine_0.1_1_0.1_L2_Size1.5_ENC_convnext_5,4,4,3,2_DEC_pshuffel_5,4,4,3,2_gelu1_1/quant_vid.pth]: File exists\n",
      "failed to open output file [hnerv_quant_weights/2x_ShakeNDry_QTM32_QTE6/1_1_1__Dim64_16_FC9_16_KS0_1_5_RED1.2_low12_blk1_1_e600_b1_quant_M32_E6_lr0.001_cosine_0.1_1_0.1_L2_Size1.5_ENC_convnext_5,4,4,3,2_DEC_pshuffel_5,4,4,3,2_gelu1_1/quant_vid.pth]: File exists\n",
      "failed to open output file [hnerv_quant_weights/2x_SunBath_QTM32_QTE6/1_1_1__Dim64_16_FC9_16_KS0_1_5_RED1.2_low12_blk1_1_e600_b1_quant_M32_E6_lr0.001_cosine_0.1_1_0.1_L2_Size1.5_ENC_convnext_5,4,4,3,2_DEC_pshuffel_5,4,4,3,2_gelu1_1/quant_vid.pth]: File exists\n",
      "failed to open output file [hnerv_quant_weights/2x_Twilight_QTM32_QTE6/1_1_1__Dim64_16_FC9_16_KS0_1_5_RED1.2_low12_blk1_1_e600_b1_quant_M32_E6_lr0.001_cosine_0.1_1_0.1_L2_Size1.5_ENC_convnext_5,4,4,3,2_DEC_pshuffel_5,4,4,3,2_gelu1_1/quant_vid.pth]: File exists\n"
     ]
    },
    {
     "name": "stdout",
     "output_type": "stream",
     "text": [
      "[[1, 0.0007467086226851852, 0.029195070266723633, 0.014671087265014648], [2, 0.0005461950231481482, 3.8643910884857178, 0.008730888366699219], [3, 0.0009170138888888889, 3.697550058364868, 0.008816003799438477], [4, 0.0006926142939814814, 4.4021100997924805, 0.007684946060180664], [5, 0.0008457826967592593, 4.098594903945923, 0.007047891616821289], [6, 0.0007627459490740741, 3.6740710735321045, 0.007881879806518555], [7, 0.0004642216435185185, 3.8747897148132324, 0.0071909427642822266], [8, 0.0005682436342592592, 3.675845146179199, 0.009829044342041016], [9, 0.0005877748842592592, 3.8939342498779297, 0.0074121952056884766], [10, 0.0006311631944444445, 3.711264133453369, 0.007280826568603516], [11, 0.0007467086226851852, 3.7974767684936523, 0.019115209579467773], [12, 0.0006032262731481481, 4.200505018234253, 0.008101224899291992], [13, 0.0012235387731481483, 4.870330095291138, 0.010128974914550781], [14, 0.0006144820601851851, 3.785676956176758, 0.007260799407958984]]\n"
     ]
    },
    {
     "name": "stderr",
     "output_type": "stream",
     "text": [
      "failed to open output file [hnerv_quant_weights/2x_YatchRide_QTM32_QTE6/1_1_1__Dim64_16_FC9_16_KS0_1_5_RED1.2_low12_blk1_1_e600_b1_quant_M32_E6_lr0.001_cosine_0.1_1_0.1_L2_Size1.5_ENC_convnext_5,4,4,3,2_DEC_pshuffel_5,4,4,3,2_gelu1_1/quant_vid.pth]: File exists\n"
     ]
    }
   ],
   "source": [
    "bpp_table = []\n",
    "for i in range(0,14):\n",
    "    arb_filename = 'hnerv_quant_weights/'+file_names[i]\n",
    "    output_file = 'compressed_quant_vid'+str(i+1)+'1.pth.br'\n",
    "    enc_time_start = time.time()\n",
    "    subprocess.run(['brotli', '-q', '11', '-o', output_file, arb_filename])\n",
    "    enc_time_end = time.time()\n",
    "    enc_delta = enc_time_end - enc_time_start\n",
    "    \n",
    "    dec_time_start = time.time()\n",
    "    subprocess.run(['brotli', '-d', '-o', arb_filename, output_file])\n",
    "    dec_time_end = time.time()\n",
    "    dec_delta = dec_time_end - dec_time_start\n",
    "    \n",
    "    total_bits = os.path.getsize(output_file) * 8\n",
    "    res = 1920*960\n",
    "    nf = 600\n",
    "    bpf = total_bits/res\n",
    "    bpp = bpf/nf\n",
    "    bpp_table.append([i+1,bpp, enc_delta, dec_delta])\n",
    "print(bpp_table)\n",
    "    \n",
    "    "
   ]
  },
  {
   "cell_type": "code",
   "execution_count": 43,
   "id": "db6b9faf",
   "metadata": {},
   "outputs": [],
   "source": [
    "import pandas as pd"
   ]
  },
  {
   "cell_type": "code",
   "execution_count": 44,
   "id": "5e8f34ac",
   "metadata": {},
   "outputs": [],
   "source": [
    "bpp_df = pd.DataFrame(bpp_table)\n"
   ]
  },
  {
   "cell_type": "code",
   "execution_count": 46,
   "id": "a272b534",
   "metadata": {},
   "outputs": [
    {
     "name": "stdout",
     "output_type": "stream",
     "text": [
      "    Video       BPP  Encoding Time  Decoding Time\n",
      "0       1  0.000747       0.029195       0.014671\n",
      "1       2  0.000546       3.864391       0.008731\n",
      "2       3  0.000917       3.697550       0.008816\n",
      "3       4  0.000693       4.402110       0.007685\n",
      "4       5  0.000846       4.098595       0.007048\n",
      "5       6  0.000763       3.674071       0.007882\n",
      "6       7  0.000464       3.874790       0.007191\n",
      "7       8  0.000568       3.675845       0.009829\n",
      "8       9  0.000588       3.893934       0.007412\n",
      "9      10  0.000631       3.711264       0.007281\n",
      "10     11  0.000747       3.797477       0.019115\n",
      "11     12  0.000603       4.200505       0.008101\n",
      "12     13  0.001224       4.870330       0.010129\n",
      "13     14  0.000614       3.785677       0.007261\n"
     ]
    }
   ],
   "source": [
    "column_name = ['Video', 'BPP', 'Encoding Time', 'Decoding Time']\n",
    "bpp_df.columns = column_name\n",
    "print(bpp_df)\n"
   ]
  },
  {
   "cell_type": "code",
   "execution_count": 47,
   "id": "5262b922",
   "metadata": {},
   "outputs": [],
   "source": [
    "bpp_df_1 = bpp_df[['Video', 'BPP']]"
   ]
  },
  {
   "cell_type": "code",
   "execution_count": 49,
   "id": "6c448d87",
   "metadata": {},
   "outputs": [],
   "source": [
    "bpp_df_1.to_csv('Brotli BPP 1')"
   ]
  },
  {
   "cell_type": "code",
   "execution_count": null,
   "id": "c56b60af",
   "metadata": {},
   "outputs": [],
   "source": []
  }
 ],
 "metadata": {
  "kernelspec": {
   "display_name": "Python 3 (ipykernel)",
   "language": "python",
   "name": "python3"
  },
  "language_info": {
   "codemirror_mode": {
    "name": "ipython",
    "version": 3
   },
   "file_extension": ".py",
   "mimetype": "text/x-python",
   "name": "python",
   "nbconvert_exporter": "python",
   "pygments_lexer": "ipython3",
   "version": "3.9.12"
  }
 },
 "nbformat": 4,
 "nbformat_minor": 5
}
