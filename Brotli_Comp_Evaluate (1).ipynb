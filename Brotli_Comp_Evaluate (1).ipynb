{
  "nbformat": 4,
  "nbformat_minor": 0,
  "metadata": {
    "colab": {
      "provenance": []
    },
    "kernelspec": {
      "name": "python3",
      "display_name": "Python 3"
    },
    "language_info": {
      "name": "python"
    }
  },
  "cells": [
    {
      "cell_type": "code",
      "execution_count": 2,
      "metadata": {
        "id": "oiD2pjyOKnGg"
      },
      "outputs": [],
      "source": [
        "import subprocess\n",
        "import numpy as np\n",
        "import time"
      ]
    },
    {
      "cell_type": "code",
      "source": [
        "import os"
      ],
      "metadata": {
        "id": "IUaJKfVhQ0Io"
      },
      "execution_count": 1,
      "outputs": []
    },
    {
      "cell_type": "code",
      "source": [
        "def evaluate_brotli(quant_embed, quant_ckt, sym_bit_dict, final_size, full_data_length): \n",
        "  quant_v_list = quant_embed['quant'].flatten().tolist()\n",
        "  tmin_scale_len = quant_embed['min'].nelement() + quant_embed['scale'].nelement()\n",
        "  for k, layer_wt in quant_ckt.items():\n",
        "      quant_v_list.extend(layer_wt['quant'].flatten().tolist())\n",
        "      tmin_scale_len += layer_wt['min'].nelement() + layer_wt['scale'].nelement()\n",
        "\n",
        "  # get the element name and its frequency\n",
        "  unique, counts = np.unique(quant_v_list, return_counts=True)\n",
        "  num_freq = dict(zip(unique, counts))\n",
        "\n",
        "  comp_encode_start_time = time.time()\n",
        "  subprocess.run([\"brotli\", \"-q\", \"11\", \"-o\", \"compressed_quant_vid.pth.br\", \"quant_vid.pth\"])\n",
        "  comp_encode_end_time = time.time()\n",
        "  delta_encode_comp = comp_encode_end_time - comp_encode_start_time\n",
        "\n",
        "  decomp_decode_start_time = time.time()\n",
        "  subprocess.run([\"brotli\", \"-d\", \"-o\", \"quant_vid.pth\", \"compressed_quant_vid.pth.br\"])\n",
        "  decomp_decode_end_time = time.time()\n",
        "  delta_decode_decomp = decomp_decode_end_time - decomp_decode_start_time\n",
        "\n",
        "  # total bits for quantized embed + model weights\n",
        "  # total_bits = 0\n",
        "  # for num, freq in num_freq.items():\n",
        "  #     total_bits += freq * sym_bit_dict[num]\n",
        "  # bits_per_param = total_bits / len(quant_v_list)\n",
        "\n",
        "  # # including the overhead for min and scale storage, \n",
        "  # total_bits += tmin_scale_len * 16               #(16bits for float16)\n",
        "  # full_bits_per_param = total_bits / len(quant_v_list)\n",
        "\n",
        "  filename = 'compressed_quant_vid.pth.br'\n",
        "  total_bits = os.path.getsize(filename) * 8\n",
        "\n",
        "  # bits per pixel\n",
        "  total_bpp = total_bits /final_size /full_data_length\n",
        "  print(f'bits per pixel: {round(total_bpp, 4)}')\n",
        "  # import pdb; pdb.set_trace; from IPython import embed; embed()     \n",
        "  return delta_encode_comp, delta_decode_decomp, total_bpp\n"
      ],
      "metadata": {
        "id": "UyAarjlqKo1D"
      },
      "execution_count": null,
      "outputs": []
    },
    {
      "cell_type": "code",
      "source": [],
      "metadata": {
        "id": "mqsUraXQL3W8"
      },
      "execution_count": null,
      "outputs": []
    }
  ]
}